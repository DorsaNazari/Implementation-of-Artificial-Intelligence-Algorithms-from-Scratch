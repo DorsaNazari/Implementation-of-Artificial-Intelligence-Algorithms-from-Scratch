{
  "nbformat": 4,
  "nbformat_minor": 0,
  "metadata": {
    "colab": {
      "name": "slp.ipynb",
      "provenance": [],
      "collapsed_sections": []
    },
    "kernelspec": {
      "name": "python3",
      "display_name": "Python 3"
    }
  },
  "cells": [
    {
      "cell_type": "code",
      "metadata": {
        "id": "7KAuhkICefUg"
      },
      "source": [
        "import numpy as np\n",
        "\n",
        "class slp(object):\n",
        "\n",
        "    def __init__(self, input, output, learning_rate,ep=0.05):\n",
        "        self.input = input\n",
        "        self.learning_rate = learning_rate\n",
        "        self.weights=np.ones(x.shape[1])\n",
        "        self.weights=self.weights*learning_rate\n",
        "        self.epochs = 100\n",
        "        self.output = output \n",
        "        self.epsilon = ep\n",
        "        # if ~exist('param3','var')\n",
        "        #   self.epsilon = ep;\n",
        "        # end\n",
        "        \n",
        "    def sigmoid(self,z):\n",
        "      return 1/(1+np.exp(-z))\n",
        "    \n",
        "    def hardlimit(self,z):\n",
        "      if z > 0.5 :\n",
        "        a = 1\n",
        "      else:\n",
        "        a=0\n",
        "      return a\n",
        "\n",
        "    def train(self):\n",
        "      iteration=0\n",
        "      for _ in range(self.epochs):\n",
        "        # print(self.weights())\n",
        "        if(self.findwrongs() != 0):\n",
        "          iteration = iteration +1\n",
        "          # print(self.weights())\n",
        "          for i in range(self.input.shape[0]):\n",
        "            e = self.output[i] - self.eval(self.input[i])\n",
        "            if(e > self.epsilon):\n",
        "                self.weights = self.weights + (self.learning_rate *(e * self.input[i]))\n",
        "            else: \n",
        "                pass\n",
        "\n",
        "        # print(self.findwrongs())\n",
        "        # else:\n",
        "        #   break\n",
        "            # self.bias = self.bias + (self.learning_rate*(e*self)\n",
        "            \n",
        "            # else:\n",
        "            #   pass\n",
        "      print(\"number of iterations :\" + str(iteration))\n",
        "    \n",
        "    def findwrongs(self):\n",
        "      wrongs=0\n",
        "      for i in range(self.input.shape[0]):\n",
        "        z = self.weights.T.dot(x[i])\n",
        "        a = self.hardlimit(z)\n",
        "        if(a!=self.output[i]):\n",
        "          wrongs=wrongs+1\n",
        "      else:\n",
        "          pass\n",
        "      # print (\"there are \"+ wrongs +\"wrong prediction !\")\n",
        "      return wrongs\n",
        "    def eval(self,x):\n",
        "      z=self.weights.T.dot(x)\n",
        "      # print(x)\n",
        "      return z\n",
        "\n",
        "\n",
        "    def predict(self, x):\n",
        "      for i in range(x.shape[0]):\n",
        "        z = self.weights.T.dot(x[i])\n",
        "        a = self.hardlimit(z)\n",
        "        print(\"prediction for \"+ str(x[i]) +\" is :\" + str(a))"
      ],
      "execution_count": null,
      "outputs": []
    },
    {
      "cell_type": "markdown",
      "metadata": {
        "id": "NBqnO15XPm7i"
      },
      "source": [
        "AND Model Trained and Tested . \n",
        "we can change learnin rate and desired error to change number of iterations"
      ]
    },
    {
      "cell_type": "code",
      "metadata": {
        "id": "8SQRn8esfm_K",
        "outputId": "4320e8c5-acd5-49a7-f8cb-034b2817efd3",
        "colab": {
          "base_uri": "https://localhost:8080/",
          "height": 104
        }
      },
      "source": [
        "x = np.array([[1,1],[1,0],[0,1],[0,0]])\n",
        "y = np.array([[1],[0],[0],[0]])\n",
        "z = np.array([[1,0],[0,0],[1,0]])\n",
        "and_model = slp(x,y,0.01)\n",
        "and_model.train()\n",
        "and_model.predict(z)\n",
        "print(\"number of wrong predictions is : \" +str(and_model.findwrongs()))"
      ],
      "execution_count": null,
      "outputs": [
        {
          "output_type": "stream",
          "text": [
            "number of iterations :34\n",
            "prediction for [1 0] is :0\n",
            "prediction for [0 0] is :0\n",
            "prediction for [1 0] is :0\n",
            "number of wrong predictions is : 0\n"
          ],
          "name": "stdout"
        }
      ]
    },
    {
      "cell_type": "markdown",
      "metadata": {
        "id": "y9nYp7t9QsfP"
      },
      "source": [
        "OR Model Trained and Tested . \n",
        "we can change learnin rate and desired error to change number of iterations"
      ]
    },
    {
      "cell_type": "code",
      "metadata": {
        "id": "X5AMUdEyP9id",
        "outputId": "b610ce4b-3cd8-4522-ea38-4803b324be33",
        "colab": {
          "base_uri": "https://localhost:8080/",
          "height": 104
        }
      },
      "source": [
        "x = np.array([[1,1],[1,0],[0,1],[0,0]])\n",
        "y = np.array([[1],[1],[1],[0]])\n",
        "z = np.array([[1,0],[0,0],[1,0]])\n",
        "or_model = slp(x,y,0.01)\n",
        "or_model.train()\n",
        "or_model.predict(z)\n",
        "print(\"number of wrong predictions is : \" +str(or_model.findwrongs()))\n",
        "# print(or_model.weights)\n",
        "# print(and_model.weights)"
      ],
      "execution_count": null,
      "outputs": [
        {
          "output_type": "stream",
          "text": [
            "number of iterations :46\n",
            "prediction for [1 0] is :1\n",
            "prediction for [0 0] is :0\n",
            "prediction for [1 0] is :1\n",
            "number of wrong predictions is : 0\n"
          ],
          "name": "stdout"
        }
      ]
    },
    {
      "cell_type": "markdown",
      "metadata": {
        "id": "Lor69cBCT35N"
      },
      "source": [
        "OR with 3 inputs"
      ]
    },
    {
      "cell_type": "code",
      "metadata": {
        "id": "hK-BxMm-S8f9",
        "outputId": "12eb2a67-e9b5-47b9-e3f3-87eee7b49c8b",
        "colab": {
          "base_uri": "https://localhost:8080/",
          "height": 139
        }
      },
      "source": [
        "x = np.array([[1,1,1],[1,0,0],[0,1,0],[0,0,0],[1,0,1],[0,0,1],[0,1,1],[1,1,0]])\n",
        "z = np.array([[1,0,1],[1,0,0],[0,1,1],[1,0,1],[0,0,0]])\n",
        "y = np.array([[1],[1],[1],[0],[1],[1],[1],[1]])\n",
        "or_three=slp(x,y,0.1)\n",
        "or_three.train()\n",
        "print(or_three.weights)\n",
        "or_three.predict(z)\n"
      ],
      "execution_count": null,
      "outputs": [
        {
          "output_type": "stream",
          "text": [
            "number of iterations :4\n",
            "[0.55674079 0.54089601 0.55582436]\n",
            "prediction for [1 0 1] is :1\n",
            "prediction for [1 0 0] is :1\n",
            "prediction for [0 1 1] is :1\n",
            "prediction for [1 0 1] is :1\n",
            "prediction for [0 0 0] is :0\n"
          ],
          "name": "stdout"
        }
      ]
    },
    {
      "cell_type": "markdown",
      "metadata": {
        "id": "iFrln5XAUyoU"
      },
      "source": [
        "AND with 3 inputs"
      ]
    },
    {
      "cell_type": "code",
      "metadata": {
        "id": "i_jUezWUUHs2",
        "outputId": "5a974ff8-743e-4ec4-ab18-29ac83f923fa",
        "colab": {
          "base_uri": "https://localhost:8080/",
          "height": 139
        }
      },
      "source": [
        "x = np.array([[1,1,1],[1,0,0],[0,1,0],[0,0,0],[0,0,1]])\n",
        "z = np.array([[1,0,1],[1,0,0],[0,1,1],[1,1,1],[0,0,0]])\n",
        "y = np.array([[1],[0],[0],[0],[0]])\n",
        "and_three=slp(x,y,0.1)\n",
        "and_three.train()\n",
        "print(and_three.weights)\n",
        "and_three.predict(z)\n"
      ],
      "execution_count": null,
      "outputs": [
        {
          "output_type": "stream",
          "text": [
            "number of iterations :1\n",
            "[0.17 0.17 0.17]\n",
            "prediction for [1 0 1] is :0\n",
            "prediction for [1 0 0] is :0\n",
            "prediction for [0 1 1] is :0\n",
            "prediction for [1 1 1] is :1\n",
            "prediction for [0 0 0] is :0\n"
          ],
          "name": "stdout"
        }
      ]
    }
  ]
}