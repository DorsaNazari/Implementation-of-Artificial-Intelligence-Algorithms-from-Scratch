{
  "nbformat": 4,
  "nbformat_minor": 0,
  "metadata": {
    "colab": {
      "name": "MLP.ipynb",
      "provenance": [],
      "collapsed_sections": []
    },
    "kernelspec": {
      "name": "python3",
      "display_name": "Python 3"
    }
  },
  "cells": [
    {
      "cell_type": "code",
      "metadata": {
        "id": "JDCTYKXidL1f",
        "outputId": "bec578f0-e76d-4d1b-befc-e27a7b2945a4",
        "colab": {
          "base_uri": "https://localhost:8080/",
          "height": 370
        }
      },
      "source": [
        "import numpy as np\n",
        "\n",
        "class dnmlp(object):\n",
        "  def __init__(self,x,y,lr =.001):\n",
        "    self.x = x\n",
        "    self.y = y\n",
        "    self.lr = lr\n",
        "    self.w1 = np.ones(( self.x.shape[1],5))/100\n",
        "    self.w2 = np.ones((5,1))/100\n",
        "    self.b1 = np.ones((1,5))/100\n",
        "    self.b2 = np.ones((self.y.shape[1], 1))/100\n",
        "\n",
        "\n",
        "  def sigmoid (self,x):\n",
        "    return 1/(1+ np.exp(-x))\n",
        "\n",
        "  def dsigmoid(self,x):\n",
        "    return self.sigmoid(x)*(1- self.sigmoid(x))\n",
        "    \n",
        "      \n",
        "  def fit (self):   \n",
        "    for _ in range(1000):\n",
        "      n1=[]\n",
        "      n2=[]\n",
        "      for j in range(self.x.shape[0]):      \n",
        "          n1.append( ((self.w1.T.dot((self.x[j])))) + self.b1 )\n",
        "      self.n1 = np.asarray(n1)\n",
        "      self.a1=self.sigmoid(self.n1)\n",
        "      for j in range(self.a1.shape[0]):\n",
        "        n2.append(self.w2.T.dot(self.a1[j].T)+self.b2)\n",
        "      self.n2 = np.asarray(n2)\n",
        "      self.a2=self.n2\n",
        "      for i in range(self.x.shape[0]):     \n",
        "        self.s2 = -2*(self.y[i]-self.a2[i])\n",
        "        z =self.n1[i]\n",
        "        self.s1 = (self.dsigmoid(z)).dot((self.w2)*(self.s2))\n",
        "        self.w1 = self.w1 - self.lr*(self.s1.dot(self.x[i].T))\n",
        "        self.b1 = self.b1 - self.lr*self.s1\n",
        "        self.w2 = self.w2 - self.lr*(self.s2*(self.a1[i].T))\n",
        "        self.b2 = self.b2 - self.lr*self.s2\n",
        "    for i in range(self.x.shape[0]): \n",
        "      print(\"No \", i+1, \"   target: \", self.y[i], \"   prediction: \", self.a2[i] ,)\n",
        "       \n",
        "       \n",
        "x = np.array ([[0,0],[0,1],[1,0],[1,1]])\n",
        "\n",
        "X=np.linspace(-2,2,21)\n",
        "X=np.expand_dims(X,1)\n",
        "y=1+np.sin((np.pi/4)*X) \n",
        "\n",
        "\n",
        "mlp = dnmlp(X,y)\n",
        "mlp.fit()\n",
        "\n",
        "\n"
      ],
      "execution_count": 3,
      "outputs": [
        {
          "output_type": "stream",
          "text": [
            "No  1    target:  [0.]    prediction:  [[-0.02927131]]\n",
            "No  2    target:  [0.01231166]    prediction:  [[0.01382718]]\n",
            "No  3    target:  [0.04894348]    prediction:  [[0.06730792]]\n",
            "No  4    target:  [0.10899348]    prediction:  [[0.13291423]]\n",
            "No  5    target:  [0.19098301]    prediction:  [[0.21227095]]\n",
            "No  6    target:  [0.29289322]    prediction:  [[0.30664271]]\n",
            "No  7    target:  [0.41221475]    prediction:  [[0.41662889]]\n",
            "No  8    target:  [0.5460095]    prediction:  [[0.54183894]]\n",
            "No  9    target:  [0.69098301]    prediction:  [[0.68062719]]\n",
            "No  10    target:  [0.84356553]    prediction:  [[0.82998932]]\n",
            "No  11    target:  [1.]    prediction:  [[0.98570802]]\n",
            "No  12    target:  [1.15643447]    prediction:  [[1.14277188]]\n",
            "No  13    target:  [1.30901699]    prediction:  [[1.29599527]]\n",
            "No  14    target:  [1.4539905]    prediction:  [[1.4406843]]\n",
            "No  15    target:  [1.58778525]    prediction:  [[1.57317439]]\n",
            "No  16    target:  [1.70710678]    prediction:  [[1.69111934]]\n",
            "No  17    target:  [1.80901699]    prediction:  [[1.79350797]]\n",
            "No  18    target:  [1.89100652]    prediction:  [[1.8804692]]\n",
            "No  19    target:  [1.95105652]    prediction:  [[1.95296605]]\n",
            "No  20    target:  [1.98768834]    prediction:  [[2.01247274]]\n",
            "No  21    target:  [2.]    prediction:  [[2.06069714]]\n"
          ],
          "name": "stdout"
        }
      ]
    }
  ]
}