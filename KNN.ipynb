{
  "nbformat": 4,
  "nbformat_minor": 0,
  "metadata": {
    "colab": {
      "name": "HW3Q1.ipynb",
      "provenance": [],
      "collapsed_sections": []
    },
    "kernelspec": {
      "name": "python3",
      "display_name": "Python 3"
    },
    "language_info": {
      "name": "python"
    }
  },
  "cells": [
    {
      "cell_type": "code",
      "metadata": {
        "id": "UZ4ZzNl1Rquq"
      },
      "source": [
        "import pandas as pd\n",
        "import numpy as np\n",
        "from scipy.stats import mode\n",
        "from numpy import dot\n",
        "from numpy.linalg import norm"
      ],
      "execution_count": 43,
      "outputs": []
    },
    {
      "cell_type": "code",
      "metadata": {
        "id": "Q-0rmqcrLMtr"
      },
      "source": [
        "def KNN (train_file,test_file,k,criterian=None):\n",
        "  df = pd.read_csv(f\"{train_file}\")\n",
        "  X = df.drop(\"LABEL\", axis=1).values\n",
        "  y = df[\"LABEL\"].values\n",
        "  df_test = pd.read_csv(f\"{test_file}\")\n",
        "  new_data_point = df_test.drop(\"LABEL\", axis=1).values\n",
        "  y_true = df_test[\"LABEL\"].values\n",
        "  if criterian == \"Euclidean Distance\":\n",
        "    neighbors_e = np.argsort(np.array([np.linalg.norm((new_data_point[i] - X), axis=1) for i in range(new_data_point.shape[0])]), axis=1)[:,:k]\n",
        "    y_predict_e = np.array([mode(y[neighbors_e][i]) for i in range(neighbors_e.shape[0])]).reshape(2100,2)[:,0]\n",
        "    return y_predict_e\n",
        "  if criterian == \"Cosine Distance\":\n",
        "    X_final = X / norm(X,axis=1).reshape((210,1))\n",
        "    new_data_point_final = new_data_point / norm(new_data_point,axis=1).reshape((2100,1))\n",
        "    neighbors_c = np.argsort(np.array([np.dot(X_final,new_data_point_final[i])*-1 for i in range(new_data_point.shape[0])]), axis=1)[:,:k]\n",
        "    y_predict_c = np.array([mode(y[neighbors_c][i]) for i in range(neighbors_c.shape[0])]).reshape(2100,2)[:,0]\n",
        "    return y_predict_c\n"
      ],
      "execution_count": 44,
      "outputs": []
    },
    {
      "cell_type": "code",
      "metadata": {
        "id": "LJDVRzMEwGr4"
      },
      "source": [
        "from sklearn import metrics\n",
        "import matplotlib.pyplot as plt\n",
        "\n",
        "df_test = pd.read_csv(\"segmentation.test.csv\")\n",
        "y_true = df_test[\"LABEL\"].values\n",
        "acc_e =[]\n",
        "acc_c =[]\n",
        "for i in range(1,9):\n",
        "  y_p_e =KNN(\"segmentation.Train.csv\",\"segmentation.test.csv\",i,\"Euclidean Distance\")\n",
        "  y_p_c =KNN(\"segmentation.Train.csv\",\"segmentation.test.csv\",i,\"Cosine Distance\")  \n",
        "  acc_e.append(metrics.accuracy_score(y_true, y_p_e)*100)\n",
        "  acc_c.append(metrics.accuracy_score(y_true, y_p_c)*100)\n",
        "\n"
      ],
      "execution_count": 45,
      "outputs": []
    },
    {
      "cell_type": "code",
      "metadata": {
        "colab": {
          "base_uri": "https://localhost:8080/",
          "height": 282
        },
        "id": "NtAa-Rtjxrkc",
        "outputId": "35351ca2-7823-40ba-8afb-16054b5da44d"
      },
      "source": [
        "plt.plot(range(8),acc_e , label = \"Euclidean Distance\")\n",
        "plt.plot(range(8),acc_c, label = \"Cosine Distance\")\n",
        "plt.legend()"
      ],
      "execution_count": 46,
      "outputs": [
        {
          "output_type": "execute_result",
          "data": {
            "text/plain": [
              "<matplotlib.legend.Legend at 0x7fbd0d5d4b90>"
            ]
          },
          "metadata": {
            "tags": []
          },
          "execution_count": 46
        },
        {
          "output_type": "display_data",
          "data": {
            "image/png": "[encoded data removed]",
            "text/plain": [
              "<Figure size 432x288 with 1 Axes>"
            ]
          },
          "metadata": {
            "tags": [],
            "needs_background": "light"
          }
        }
      ]
    }
  ]
}