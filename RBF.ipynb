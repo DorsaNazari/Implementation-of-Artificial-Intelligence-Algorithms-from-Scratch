{
  "nbformat": 4,
  "nbformat_minor": 0,
  "metadata": {
    "colab": {
      "name": "RBF.ipynb",
      "provenance": []
    },
    "kernelspec": {
      "name": "python3",
      "display_name": "Python 3"
    }
  },
  "cells": [
    {
      "cell_type": "code",
      "metadata": {
        "id": "RJuGIEOIc21Q"
      },
      "source": [
        "import numpy as np\n",
        "import matplotlib.pyplot as plt\n",
        "from sklearn.cluster import KMeans\n",
        "\n",
        "class RBF(object):\n",
        "\n",
        "  def __init__(self,x,y,hidden):\n",
        "    self.x=x\n",
        "    self.y=y\n",
        "    self.hidden=hidden\n",
        "    self.b=0.01\n",
        "    km=KMeans(self.hidden)\n",
        "    km.fit(x)\n",
        "    self.centers=km.cluster_centers_\n",
        "\n",
        "  def gaussian(self,z):\n",
        "    return np.exp(-1*z*z *self.b ) \n",
        "\n",
        "  def fit(self):\n",
        "    self.n = np.ones([x.shape[0],self.hidden])\n",
        "    for i in range(self.x.shape[0]):\n",
        "      for j in range(self.hidden):\n",
        "        self.n[i,j] = np.linalg.norm(self.x[i]-self.centers[j])\n",
        "    self.a = self.gaussian(self.n)\n",
        "    self.bias=np.ones([self.x.shape[0],1])\n",
        "    self.a=np.concatenate((self.bias,self.a),axis=1)\n",
        "    self.w = np.linalg.inv(self.a.T.dot(self.a)).dot(self.a.T).dot(self.y)\n",
        "\n",
        "  def predict (self):\n",
        "    o = self.a.dot(self.w)\n",
        "    return o\n",
        "\n",
        "\n",
        "\n"
      ],
      "execution_count": 69,
      "outputs": []
    },
    {
      "cell_type": "code",
      "metadata": {
        "id": "7zcbxaRhqVgt",
        "outputId": "5d62920b-483d-43db-e1fc-92874b63faa6",
        "colab": {
          "base_uri": "https://localhost:8080/",
          "height": 298
        }
      },
      "source": [
        "x = np.linspace(-2,2,21)[: , np.newaxis]\n",
        "y = np.sin(x*np.pi/4)\n",
        "model = RBF(x,y,4)\n",
        "model.fit()\n",
        "y2 = model.predict()\n",
        "plt.plot(x,y,'ro',x,y2,'b--x')"
      ],
      "execution_count": 72,
      "outputs": [
        {
          "output_type": "execute_result",
          "data": {
            "text/plain": [
              "[<matplotlib.lines.Line2D at 0x7fd812fbfe80>,\n",
              " <matplotlib.lines.Line2D at 0x7fd812fbffd0>]"
            ]
          },
          "metadata": {
            "tags": []
          },
          "execution_count": 72
        },
        {
          "output_type": "display_data",
          "data": {
            "image/png": "[encoded data removed]",
            "text/plain": [
              "<Figure size 432x288 with 1 Axes>"
            ]
          },
          "metadata": {
            "tags": [],
            "needs_background": "light"
          }
        }
      ]
    },
    {
      "cell_type": "code",
      "metadata": {
        "id": "mkjBwEufpyB9",
        "outputId": "4aeef6fb-6362-46c0-830f-3dfc7c6a3c43",
        "colab": {
          "base_uri": "https://localhost:8080/"
        }
      },
      "source": [
        "x = np.array([[1,1],[1,0],[0,1],[0,0]])\n",
        "y = np.array([[0,1,1,0]]).T\n",
        "xor = RBF(x,y,2)\n",
        "xor.centers=np.array([[1,1],[0,0]])\n",
        "xor.fit()\n",
        "xor.predict()"
      ],
      "execution_count": 71,
      "outputs": [
        {
          "output_type": "execute_result",
          "data": {
            "text/plain": [
              "array([[-1.47891114e-07],\n",
              "       [ 9.99999937e-01],\n",
              "       [ 9.99999937e-01],\n",
              "       [-1.48271283e-07]])"
            ]
          },
          "metadata": {
            "tags": []
          },
          "execution_count": 71
        }
      ]
    }
  ]
}